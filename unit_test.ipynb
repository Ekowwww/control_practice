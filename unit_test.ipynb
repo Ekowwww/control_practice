{
 "cells": [
  {
   "cell_type": "code",
   "execution_count": null,
   "metadata": {},
   "outputs": [],
   "source": [
    "# from mainfolder.file import class\n",
    "# from pay.order import LineItem\n",
    "\n",
    "def test_line_item() -> None:\n",
    "    line_item = LineItem(\"Item\", 100)\n",
    "    assert line_item.total==100\n",
    "    \n",
    "    \n",
    "# to run, open a shell and run  the following command:\n",
    "# pytest\n",
    "# to find coverage of test, run  :\n",
    "# pytest --cov\n"
   ]
  }
 ],
 "metadata": {
  "language_info": {
   "name": "python"
  },
  "orig_nbformat": 4
 },
 "nbformat": 4,
 "nbformat_minor": 2
}
